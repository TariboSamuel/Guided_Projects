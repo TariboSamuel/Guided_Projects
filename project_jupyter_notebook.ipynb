{
 "cells": [
  {
   "cell_type": "markdown",
   "metadata": {},
   "source": [
    "# Project: Jupyter Notebook"
   ]
  },
  {
   "cell_type": "markdown",
   "metadata": {},
   "source": [
    "## State"
   ]
  },
  {
   "cell_type": "code",
   "execution_count": 1,
   "metadata": {},
   "outputs": [],
   "source": [
    "def welcome(a_string):\n",
    "    print('Welcome to ' + a_string + '!')\n",
    "    \n",
    "dq = 'Dataquest'\n",
    "jn = 'Jupyter Notebook'\n",
    "py = 'Python'"
   ]
  },
  {
   "cell_type": "code",
   "execution_count": 2,
   "metadata": {},
   "outputs": [
    {
     "name": "stdout",
     "output_type": "stream",
     "text": [
      "Welcome to Dataquest!\n",
      "Welcome to Jupyter Notebook!\n",
      "Welcome to Python!\n"
     ]
    }
   ],
   "source": [
    "welcome(dq)\n",
    "welcome(jn)\n",
    "welcome(py)"
   ]
  },
  {
   "cell_type": "markdown",
   "metadata": {},
   "source": [
    "## Hidden State"
   ]
  },
  {
   "cell_type": "code",
   "execution_count": 6,
   "metadata": {},
   "outputs": [
    {
     "name": "stdout",
     "output_type": "stream",
     "text": [
      ">>> %history -p\n",
      ">>> def welcome(a_string):\n",
      "...     salute = 'Welcome to ' + a_string + '!'\n",
      "...     return salute\n",
      "... \n",
      "... dq =  'Dataquest'\n",
      "... jn = 'Jupyter Notebook'\n",
      "...\n",
      ">>> welcome(dq)\n",
      "... welcome(jn)\n",
      "... welcome(py\n",
      "...\n",
      ">>> welcome(dq)\n",
      "... welcome(jn)\n",
      "... welcome(py)\n",
      "...\n",
      ">>> welcome(dq)\n",
      "... welcome(jn)\n",
      "...\n",
      ">>> %history -p\n"
     ]
    }
   ],
   "source": [
    "%history -p"
   ]
  },
  {
   "cell_type": "code",
   "execution_count": 3,
   "metadata": {},
   "outputs": [],
   "source": [
    "def welcome(a_string):\n",
    "    salute = 'Welcome to ' + a_string + '!'\n",
    "    return salute\n",
    "\n",
    "dq =  'Dataquest'\n",
    "jn = 'Jupyter Notebook'"
   ]
  },
  {
   "cell_type": "code",
   "execution_count": 4,
   "metadata": {},
   "outputs": [
    {
     "data": {
      "text/plain": [
       "'Welcome to Python!'"
      ]
     },
     "execution_count": 4,
     "metadata": {},
     "output_type": "execute_result"
    }
   ],
   "source": [
    "welcome(dq)\n",
    "welcome(jn)\n",
    "welcome(py)"
   ]
  },
  {
   "cell_type": "markdown",
   "metadata": {},
   "source": [
    "These are the series of steps I undertook below in reading the dataset; \n",
    "\n",
    "1. created a variable called `opened_file` and assigned the function `open` with the dataset passed into it.\n",
    "2. imported library.\n",
    "3. created a variable `read_file` and assigned the function `read` with the `opened_file` variable.\n",
    "4. created variable `apps_data` and assigned the function `list` to convert the dataset into a list.\n",
    "5. printed the first few rows of the dataset including the header."
   ]
  },
  {
   "cell_type": "code",
   "execution_count": 7,
   "metadata": {},
   "outputs": [
    {
     "data": {
      "text/plain": [
       "[['id',\n",
       "  'track_name',\n",
       "  'size_bytes',\n",
       "  'currency',\n",
       "  'price',\n",
       "  'rating_count_tot',\n",
       "  'rating_count_ver',\n",
       "  'user_rating',\n",
       "  'user_rating_ver',\n",
       "  'ver',\n",
       "  'cont_rating',\n",
       "  'prime_genre',\n",
       "  'sup_devices.num',\n",
       "  'ipadSc_urls.num',\n",
       "  'lang.num',\n",
       "  'vpp_lic'],\n",
       " ['284882215',\n",
       "  'Facebook',\n",
       "  '389879808',\n",
       "  'USD',\n",
       "  '0.0',\n",
       "  '2974676',\n",
       "  '212',\n",
       "  '3.5',\n",
       "  '3.5',\n",
       "  '95.0',\n",
       "  '4+',\n",
       "  'Social Networking',\n",
       "  '37',\n",
       "  '1',\n",
       "  '29',\n",
       "  '1'],\n",
       " ['389801252',\n",
       "  'Instagram',\n",
       "  '113954816',\n",
       "  'USD',\n",
       "  '0.0',\n",
       "  '2161558',\n",
       "  '1289',\n",
       "  '4.5',\n",
       "  '4.0',\n",
       "  '10.23',\n",
       "  '12+',\n",
       "  'Photo & Video',\n",
       "  '37',\n",
       "  '0',\n",
       "  '29',\n",
       "  '1'],\n",
       " ['529479190',\n",
       "  'Clash of Clans',\n",
       "  '116476928',\n",
       "  'USD',\n",
       "  '0.0',\n",
       "  '2130805',\n",
       "  '579',\n",
       "  '4.5',\n",
       "  '4.5',\n",
       "  '9.24.12',\n",
       "  '9+',\n",
       "  'Games',\n",
       "  '38',\n",
       "  '5',\n",
       "  '18',\n",
       "  '1']]"
      ]
     },
     "execution_count": 7,
     "metadata": {},
     "output_type": "execute_result"
    }
   ],
   "source": [
    "opened_file = open('AppleStore.csv')\n",
    "from csv import reader\n",
    "read_file = reader(opened_file)\n",
    "apps_data = list(read_file)\n",
    "\n",
    "apps_data[:4]"
   ]
  },
  {
   "cell_type": "markdown",
   "metadata": {},
   "source": [
    "The `AppleStore.csv` data set contains more than 7000 Apple iOS mobile application details. \n",
    "\n",
    "**Source:**\n",
    "The data was extracted from the iTunes Search API at the Apple Inc website. R and linux web scraping tools were used for this study\n",
    "**Documentation:**\n",
    "The documentation for this page can be found [here](https://www.kaggle.com/datasets/ramamet4/app-store-apple-data-set-10k-apps) where you can also download the dataset from."
   ]
  },
  {
   "cell_type": "markdown",
   "metadata": {},
   "source": [
    "This is a table explaining what each column in the data set describes:"
   ]
  },
  {
   "cell_type": "markdown",
   "metadata": {},
   "source": [
    "|**Column name**      |   Description                                    |\n",
    "|---------------      |----------------                                  |\n",
    "|  \"id\"\t              |   App ID                                         |\n",
    "|\"track_name\"\t      |   App Name                                       |\n",
    "|\"size_bytes\"\t      |   Size (in Bytes)                                |\n",
    "|\"currency\"\t          |   Currency Type                                  |\n",
    "|\"price\"\t          |   Price amount                                   |\n",
    "|\"rating_count_tot\"\t  |   User Rating counts (for all version)           |\n",
    "|\"rating_count_ver\"\t  |   User Rating counts (for current version)       |\n",
    "|\"user_rating\"\t      |   Average User Rating value (for all version)    |\n",
    "|\"user_rating_ver\"\t  |   Average User Rating value (for current version)|\n",
    "|\"ver\"\t              |   Latest version code                            |\n",
    "|\"cont_rating\"\t      |   Content Rating                                 |\n",
    "|\"prime_genre\"\t      |   Primary Genre                                  |\n",
    "|\"sup_devices.num\"\t  |   Number of supporting devices                   |\n",
    "|\"ipadSc_urls.num\"\t  |   Number of screenshots showed for display       |\n",
    "|\"lang.num\"\t          |   Number of supported languages                  |\n",
    "|\"vpp_lic\"\t          |   Vpp Device Based Licensing Enabled             |"
   ]
  }
 ],
 "metadata": {
  "kernelspec": {
   "display_name": "Python 3 (ipykernel)",
   "language": "python",
   "name": "python3"
  },
  "language_info": {
   "codemirror_mode": {
    "name": "ipython",
    "version": 3
   },
   "file_extension": ".py",
   "mimetype": "text/x-python",
   "name": "python",
   "nbconvert_exporter": "python",
   "pygments_lexer": "ipython3",
   "version": "3.9.7"
  }
 },
 "nbformat": 4,
 "nbformat_minor": 2
}
